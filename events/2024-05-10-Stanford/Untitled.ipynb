{
 "cells": [
  {
   "cell_type": "markdown",
   "id": "8f4f893b-f1e2-44cc-9aaf-020dbc69b51c",
   "metadata": {},
   "source": [
    "# How to get started?\n",
    "\n",
    "1. Check out what variables you want to work with.\n",
    "    - [Official Search](https://aims2.llnl.gov/search/cmip6/) but those variable names can be cryptic at first.\n",
    "    - [This Spreadsheet](https://docs.google.com/spreadsheets/d/1UUtoz6Ofyjlpx5LdqhKcwHFz2SGoTQV2_yekHyMfL9Y/edit#gid=1221485271) can be handy\n",
    "\n",
    "2. Search for available Data\n",
    "    - [Newest version of our intake-esm data catalog](https://github.com/leap-stc/cmip6-leap-feedstock#how-to-access-the-newly-uploaded-data)\n",
    "    - We are exploring new catalog options like stac\n",
    "3. Load the data lazily and start working with them"
   ]
  },
  {
   "cell_type": "code",
   "execution_count": null,
   "id": "bb4b34fd-cac8-44c6-bcfe-939d0491248b",
   "metadata": {},
   "outputs": [],
   "source": []
  },
  {
   "cell_type": "code",
   "execution_count": null,
   "id": "a52bef7b-1d4c-4308-945a-2a22f330d03a",
   "metadata": {},
   "outputs": [],
   "source": []
  }
 ],
 "metadata": {
  "kernelspec": {
   "display_name": "Python 3 (ipykernel)",
   "language": "python",
   "name": "python3"
  },
  "language_info": {
   "codemirror_mode": {
    "name": "ipython",
    "version": 3
   },
   "file_extension": ".py",
   "mimetype": "text/x-python",
   "name": "python",
   "nbconvert_exporter": "python",
   "pygments_lexer": "ipython3",
   "version": "3.11.8"
  }
 },
 "nbformat": 4,
 "nbformat_minor": 5
}
